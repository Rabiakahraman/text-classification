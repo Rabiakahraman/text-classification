{
 "cells": [
  {
   "cell_type": "markdown",
   "id": "1a1e5109",
   "metadata": {},
   "source": [
    "#### METİN SINIFLANDIRMA"
   ]
  },
  {
   "cell_type": "code",
   "execution_count": 1,
   "id": "7d3387c1",
   "metadata": {},
   "outputs": [
    {
     "data": {
      "text/html": [
       "<div>\n",
       "<style scoped>\n",
       "    .dataframe tbody tr th:only-of-type {\n",
       "        vertical-align: middle;\n",
       "    }\n",
       "\n",
       "    .dataframe tbody tr th {\n",
       "        vertical-align: top;\n",
       "    }\n",
       "\n",
       "    .dataframe thead th {\n",
       "        text-align: right;\n",
       "    }\n",
       "</style>\n",
       "<table border=\"1\" class=\"dataframe\">\n",
       "  <thead>\n",
       "    <tr style=\"text-align: right;\">\n",
       "      <th></th>\n",
       "      <th>category</th>\n",
       "      <th>text</th>\n",
       "    </tr>\n",
       "  </thead>\n",
       "  <tbody>\n",
       "    <tr>\n",
       "      <th>3353</th>\n",
       "      <td>saglik</td>\n",
       "      <td>ameliyat sayısı 10 yılda 4 kat arttı türkiye ...</td>\n",
       "    </tr>\n",
       "    <tr>\n",
       "      <th>1646</th>\n",
       "      <td>ekonomi</td>\n",
       "      <td>istanbul da elektrik kesintisi bahçelievler b...</td>\n",
       "    </tr>\n",
       "    <tr>\n",
       "      <th>4680</th>\n",
       "      <td>teknoloji</td>\n",
       "      <td>apple iphone için hangi isimleri düşünmüş ! i...</td>\n",
       "    </tr>\n",
       "    <tr>\n",
       "      <th>3195</th>\n",
       "      <td>saglik</td>\n",
       "      <td>kadınlarda 7 kat fazla görülüyor çalışmadığı ...</td>\n",
       "    </tr>\n",
       "    <tr>\n",
       "      <th>3720</th>\n",
       "      <td>spor</td>\n",
       "      <td>masa tenisinde 3 etap izmir de masa tenisinde...</td>\n",
       "    </tr>\n",
       "    <tr>\n",
       "      <th>2638</th>\n",
       "      <td>kultur</td>\n",
       "      <td>michael_jackson the immortal world tour ülker...</td>\n",
       "    </tr>\n",
       "    <tr>\n",
       "      <th>285</th>\n",
       "      <td>siyaset</td>\n",
       "      <td>lise arkadaşı abdullah_öcalan ı anlattı başba...</td>\n",
       "    </tr>\n",
       "  </tbody>\n",
       "</table>\n",
       "</div>"
      ],
      "text/plain": [
       "        category                                               text\n",
       "3353     saglik    ameliyat sayısı 10 yılda 4 kat arttı türkiye ...\n",
       "1646    ekonomi    istanbul da elektrik kesintisi bahçelievler b...\n",
       "4680  teknoloji    apple iphone için hangi isimleri düşünmüş ! i...\n",
       "3195     saglik    kadınlarda 7 kat fazla görülüyor çalışmadığı ...\n",
       "3720       spor    masa tenisinde 3 etap izmir de masa tenisinde...\n",
       "2638     kultur    michael_jackson the immortal world tour ülker...\n",
       "285     siyaset    lise arkadaşı abdullah_öcalan ı anlattı başba..."
      ]
     },
     "execution_count": 1,
     "metadata": {},
     "output_type": "execute_result"
    }
   ],
   "source": [
    "import pandas as pd \n",
    "df = pd.read_csv('7allV03.csv')\n",
    "#df.head() ilk 5 veriyi gösterir\n",
    "df.sample(n=7)"
   ]
  },
  {
   "cell_type": "code",
   "execution_count": 2,
   "id": "d2cac502",
   "metadata": {},
   "outputs": [
    {
     "data": {
      "text/html": [
       "<div>\n",
       "<style scoped>\n",
       "    .dataframe tbody tr th:only-of-type {\n",
       "        vertical-align: middle;\n",
       "    }\n",
       "\n",
       "    .dataframe tbody tr th {\n",
       "        vertical-align: top;\n",
       "    }\n",
       "\n",
       "    .dataframe thead th {\n",
       "        text-align: right;\n",
       "    }\n",
       "</style>\n",
       "<table border=\"1\" class=\"dataframe\">\n",
       "  <thead>\n",
       "    <tr style=\"text-align: right;\">\n",
       "      <th></th>\n",
       "      <th>category</th>\n",
       "      <th>text</th>\n",
       "      <th>category_id</th>\n",
       "    </tr>\n",
       "  </thead>\n",
       "  <tbody>\n",
       "    <tr>\n",
       "      <th>696</th>\n",
       "      <td>siyaset</td>\n",
       "      <td>aktörlerden biri de imralı pkk  ya silah bır...</td>\n",
       "      <td>0</td>\n",
       "    </tr>\n",
       "    <tr>\n",
       "      <th>1492</th>\n",
       "      <td>ekonomi</td>\n",
       "      <td>altının onsu 1 750 dolar sınırında seyrediyor...</td>\n",
       "      <td>2</td>\n",
       "    </tr>\n",
       "    <tr>\n",
       "      <th>3252</th>\n",
       "      <td>saglik</td>\n",
       "      <td>4 bin kişi bu yüzden ölüyor hayatı boyunca ev...</td>\n",
       "      <td>4</td>\n",
       "    </tr>\n",
       "    <tr>\n",
       "      <th>2342</th>\n",
       "      <td>kultur</td>\n",
       "      <td>görme engelli sanatçıdan trt ye aihm den dava...</td>\n",
       "      <td>3</td>\n",
       "    </tr>\n",
       "    <tr>\n",
       "      <th>2817</th>\n",
       "      <td>saglik</td>\n",
       "      <td>uyku apnesi kanseri tetikliyor uyku apnesi ol...</td>\n",
       "      <td>4</td>\n",
       "    </tr>\n",
       "  </tbody>\n",
       "</table>\n",
       "</div>"
      ],
      "text/plain": [
       "      category                                               text  category_id\n",
       "696   siyaset    aktörlerden biri de imralı pkk  ya silah bır...            0\n",
       "1492  ekonomi    altının onsu 1 750 dolar sınırında seyrediyor...            2\n",
       "3252   saglik    4 bin kişi bu yüzden ölüyor hayatı boyunca ev...            4\n",
       "2342   kultur    görme engelli sanatçıdan trt ye aihm den dava...            3\n",
       "2817   saglik    uyku apnesi kanseri tetikliyor uyku apnesi ol...            4"
      ]
     },
     "execution_count": 2,
     "metadata": {},
     "output_type": "execute_result"
    }
   ],
   "source": [
    "#Bütün veriden category ve text sütunlarını çekiyoruz. Eksik veriler varsa onları temizliyoruz. Kategoriler için birer id belirliyoruz.\n",
    "from io import StringIO\n",
    "col = ['category', 'text']\n",
    "df = df[col]\n",
    "df = df[pd.notnull(df['text'])]\n",
    "df.columns = ['category', 'text']\n",
    "df['category_id'] = df['category'].factorize()[0]\n",
    "category_id_df = df[['category', 'category_id']].drop_duplicates().sort_values('category_id')\n",
    "category_to_id = dict(category_id_df.values)\n",
    "id_to_category = dict(category_id_df[['category_id', 'category']].values)\n",
    "df.sample(5)"
   ]
  },
  {
   "cell_type": "code",
   "execution_count": 3,
   "id": "95fda84a",
   "metadata": {},
   "outputs": [
    {
     "data": {
      "image/png": "[encoded data removed]",
      "text/plain": [
       "<Figure size 576x432 with 1 Axes>"
      ]
     },
     "metadata": {
      "needs_background": "light"
     },
     "output_type": "display_data"
    }
   ],
   "source": [
    "import matplotlib.pyplot as plt\n",
    "fig = plt.figure(figsize=(8,6))\n",
    "df.groupby('category').text.count().plot.bar(ylim=0)\n",
    "plt.show()\n",
    "\n",
    "#Eş bir dağılım mevcut"
   ]
  },
  {
   "cell_type": "code",
   "execution_count": 4,
   "id": "7c97a308",
   "metadata": {
    "scrolled": true
   },
   "outputs": [
    {
     "name": "stdout",
     "output_type": "stream",
     "text": [
      "['acaba', 'altmış', 'altı', 'ama', 'ancak', 'arada', 'aslında', 'ayrıca', 'bana', 'bazı', 'belki', 'ben', 'benden', 'beni', 'benim', 'beri', 'beş', 'bile', 'bin', 'bir', 'birçok', 'biri', 'birkaç', 'birkez', 'birşey', 'birşeyi', 'biz', 'bize', 'bizden', 'bizi', 'bizim', 'böyle', 'böylece', 'bu', 'buna', 'bunda', 'bundan', 'bunlar', 'bunları', 'bunların', 'bunu', 'bunun', 'burada', 'çok', 'çünkü', 'da', 'daha', 'dahi', 'de', 'defa', 'değil', 'diğer', 'diye', 'doksan', 'dokuz', 'dolayı', 'dolayısıyla', 'dört', 'edecek', 'eden', 'ederek', 'edilecek', 'ediliyor', 'edilmesi', 'ediyor', 'eğer', 'elli', 'en', 'etmesi', 'etti', 'ettiği', 'ettiğini', 'gibi', 'göre', 'halen', 'hangi', 'hatta', 'hem', 'henüz', 'hep', 'hepsi', 'her', 'herhangi', 'herkesin', 'hiç', 'hiçbir', 'için', 'iki', 'ile', 'ilgili', 'ise', 'işte', 'itibaren', 'itibariyle', 'kadar', 'karşın', 'katrilyon', 'kendi', 'kendilerine', 'kendini', 'kendisi', 'kendisine', 'kendisini', 'kez', 'ki', 'kim', 'kimden', 'kime', 'kimi', 'kimse', 'kırk', 'milyar', 'milyon', 'mu', 'mü', 'mı', 'nasıl', 'ne', 'neden', 'nedenle', 'nerde', 'nerede', 'nereye', 'niye', 'niçin', 'o', 'olan', 'olarak', 'oldu', 'olduğu', 'olduğunu', 'olduklarını', 'olmadı', 'olmadığı', 'olmak', 'olması', 'olmayan', 'olmaz', 'olsa', 'olsun', 'olup', 'olur', 'olursa', 'oluyor', 'on', 'ona', 'ondan', 'onlar', 'onlardan', 'onları', 'onların', 'onu', 'onun', 'otuz', 'oysa', 'öyle', 'pek', 'rağmen', 'sadece', 'sanki', 'sekiz', 'seksen', 'sen', 'senden', 'seni', 'senin', 'siz', 'sizden', 'sizi', 'sizin', 'şey', 'şeyden', 'şeyi', 'şeyler', 'şöyle', 'şu', 'şuna', 'şunda', 'şundan', 'şunları', 'şunu', 'tarafından', 'trilyon', 'tüm', 'üç', 'üzere', 'var', 'vardı', 've', 'veya', 'ya', 'yani', 'yapacak', 'yapılan', 'yapılması', 'yapıyor', 'yapmak', 'yaptı', 'yaptığı', 'yaptığını', 'yaptıkları', 'yedi', 'yerine', 'yetmiş', 'yine', 'yirmi', 'yoksa', 'yüz', 'zaten', 'altmış', 'altı', 'bazı', 'bey', 'birey', 'birbeyi', 'mi', 'kırk', 'mı', 'nasıl', 'onlari', 'onların', 'yetmis', 'bey', 'beyden', 'beyi', 'beyler', 'bu', 'buna', 'bunda', 'bundan', 'bunu']\n"
     ]
    }
   ],
   "source": [
    "#metinleri sayısal ifadeye dönüştürüyoruz. bunun için TF-IDF kullanılır\n",
    "sw = pd.read_csv('stop_words_turkish.txt',sep=\"\\n\", header=None)\n",
    "#df.head(n=20)\n",
    "print(sw[0].values.tolist())"
   ]
  },
  {
   "cell_type": "code",
   "execution_count": 5,
   "id": "8bc0d879",
   "metadata": {},
   "outputs": [
    {
     "data": {
      "text/plain": [
       "(4900, 36029)"
      ]
     },
     "execution_count": 5,
     "metadata": {},
     "output_type": "execute_result"
    }
   ],
   "source": [
    "from sklearn.feature_extraction.text import TfidfVectorizer\n",
    "tfidf = TfidfVectorizer(sublinear_tf=True, min_df=5, norm='l2', encoding='utf-8', ngram_range=(1, 2), stop_words=sw[0].values.tolist())\n",
    "features = tfidf.fit_transform(df.text).toarray()\n",
    "labels = df.category_id\n",
    "features.shape"
   ]
  },
  {
   "cell_type": "code",
   "execution_count": 6,
   "id": "bb12c9f4",
   "metadata": {},
   "outputs": [
    {
     "name": "stdout",
     "output_type": "stream",
     "text": [
      "# 'dunya ':\n",
      "  . En ilişkili unigram ifadeler:\n",
      ". suriye\n",
      ". israil\n",
      "  . En ilişkili bigram ifadeler:\n",
      ". kişi öldü\n",
      ". israil in\n",
      "---------------------------\n",
      "# 'ekonomi ':\n",
      "  . En ilişkili unigram ifadeler:\n",
      ". kredi\n",
      ". yüzde\n",
      "  . En ilişkili bigram ifadeler:\n",
      ". yılın aynı\n",
      ". endeksi yüzde\n",
      "---------------------------\n",
      "# 'kultur ':\n",
      "  . En ilişkili unigram ifadeler:\n",
      ". sanat\n",
      ". film\n",
      "  . En ilişkili bigram ifadeler:\n",
      ". 11 2012\n",
      ". film festivali\n",
      "---------------------------\n",
      "# 'saglik ':\n",
      "  . En ilişkili unigram ifadeler:\n",
      ". tedavi\n",
      ". dr\n",
      "  . En ilişkili bigram ifadeler:\n",
      ". doç dr\n",
      ". prof dr\n",
      "---------------------------\n",
      "# 'siyaset ':\n",
      "  . En ilişkili unigram ifadeler:\n",
      ". ak_parti\n",
      ". chp\n",
      "  . En ilişkili bigram ifadeler:\n",
      ". chp li\n",
      ". chp nin\n",
      "---------------------------\n",
      "# 'spor ':\n",
      "  . En ilişkili unigram ifadeler:\n",
      ". maç\n",
      ". maçında\n",
      "  . En ilişkili bigram ifadeler:\n",
      ". galatasaray ın\n",
      ". teknik direktör\n",
      "---------------------------\n",
      "# 'teknoloji ':\n",
      "  . En ilişkili unigram ifadeler:\n",
      ". google\n",
      ". apple\n",
      "  . En ilişkili bigram ifadeler:\n",
      ". google ın\n",
      ". apple ın\n",
      "---------------------------\n"
     ]
    }
   ],
   "source": [
    "from sklearn.feature_selection import chi2\n",
    "import numpy as np\n",
    "N = 2\n",
    "for category, category_id in sorted(category_to_id.items()):\n",
    "  features_chi2 = chi2(features, labels == category_id)\n",
    "  indices = np.argsort(features_chi2[0])\n",
    "  feature_names = np.array(tfidf.get_feature_names())[indices]\n",
    "  unigrams = [v for v in feature_names if len(v.split(' ')) == 1]\n",
    "  bigrams = [v for v in feature_names if len(v.split(' ')) == 2]\n",
    "  print(\"# '{}':\".format(category))\n",
    "  print(\"  . En ilişkili unigram ifadeler:\\n. {}\".format('\\n. '.join(unigrams[-N:])))\n",
    "  print(\"  . En ilişkili bigram ifadeler:\\n. {}\".format('\\n. '.join(bigrams[-N:])))\n",
    "  print(\"---------------------------\")"
   ]
  },
  {
   "cell_type": "code",
   "execution_count": 35,
   "id": "4bf52cf4",
   "metadata": {},
   "outputs": [
    {
     "name": "stdout",
     "output_type": "stream",
     "text": [
      "Eğitim Tamamlandı.\n"
     ]
    }
   ],
   "source": [
    "\n",
    "from sklearn.model_selection import train_test_split\n",
    "from sklearn.feature_extraction.text import CountVectorizer\n",
    "from sklearn.feature_extraction.text import TfidfTransformer\n",
    "from sklearn.naive_bayes import MultinomialNB\n",
    "X_train, X_test, y_train, y_test = train_test_split(df['text'], df['category'], random_state = 0)\n",
    "count_vect = CountVectorizer()\n",
    "X_train_counts = count_vect.fit_transform(X_train)\n",
    "tfidf_transformer = TfidfTransformer()\n",
    "X_train_tfidf = tfidf_transformer.fit_transform(X_train_counts)\n",
    "clf = MultinomialNB().fit(X_train_tfidf, y_train)\n",
    "print('Eğitim Tamamlandı.')"
   ]
  },
  {
   "cell_type": "code",
   "execution_count": 8,
   "id": "0d51ae8a",
   "metadata": {},
   "outputs": [
    {
     "name": "stdout",
     "output_type": "stream",
     "text": [
      "['spor ']\n"
     ]
    }
   ],
   "source": [
    "print(clf.predict(count_vect.transform([\"kupa turnuva\"])))"
   ]
  },
  {
   "cell_type": "code",
   "execution_count": 9,
   "id": "87929066",
   "metadata": {},
   "outputs": [
    {
     "name": "stdout",
     "output_type": "stream",
     "text": [
      "['teknoloji ']\n"
     ]
    }
   ],
   "source": [
    "print(clf.predict(count_vect.transform([\"google\"])))"
   ]
  },
  {
   "cell_type": "code",
   "execution_count": 10,
   "id": "8a228541",
   "metadata": {},
   "outputs": [
    {
     "name": "stdout",
     "output_type": "stream",
     "text": [
      "['ekonomi ']\n"
     ]
    }
   ],
   "source": [
    "print(clf.predict(count_vect.transform([\"kredi\"])))"
   ]
  },
  {
   "cell_type": "code",
   "execution_count": 11,
   "id": "0478b850",
   "metadata": {},
   "outputs": [
    {
     "name": "stdout",
     "output_type": "stream",
     "text": [
      "['kultur ']\n"
     ]
    }
   ],
   "source": [
    "print(clf.predict(count_vect.transform([\"film\"])))"
   ]
  },
  {
   "cell_type": "code",
   "execution_count": 24,
   "id": "6a229304",
   "metadata": {
    "scrolled": true
   },
   "outputs": [],
   "source": [
    "from sklearn.naive_bayes import MultinomialNB\n",
    "nb = MultinomialNB()\n"
   ]
  },
  {
   "cell_type": "code",
   "execution_count": 37,
   "id": "b620c504",
   "metadata": {},
   "outputs": [
    {
     "data": {
      "text/plain": [
       "<1225x95929 sparse matrix of type '<class 'numpy.int64'>'\n",
       "\twith 199353 stored elements in Compressed Sparse Row format>"
      ]
     },
     "execution_count": 37,
     "metadata": {},
     "output_type": "execute_result"
    }
   ],
   "source": [
    "X_test_counts = count_vect.transform(X_test)\n",
    "X_test_counts"
   ]
  },
  {
   "cell_type": "code",
   "execution_count": 26,
   "id": "6323e42f",
   "metadata": {},
   "outputs": [
    {
     "name": "stdout",
     "output_type": "stream",
     "text": [
      "Wall time: 104 ms\n"
     ]
    },
    {
     "data": {
      "text/plain": [
       "MultinomialNB()"
      ]
     },
     "execution_count": 26,
     "metadata": {},
     "output_type": "execute_result"
    }
   ],
   "source": [
    "%time nb.fit(X_train_counts, y_train)"
   ]
  },
  {
   "cell_type": "code",
   "execution_count": 40,
   "id": "bda72e4f",
   "metadata": {},
   "outputs": [],
   "source": [
    "y_pred_class = nb.predict(X_test_counts)"
   ]
  },
  {
   "cell_type": "code",
   "execution_count": 41,
   "id": "54a88b7b",
   "metadata": {},
   "outputs": [
    {
     "data": {
      "text/plain": [
       "0.9012244897959184"
      ]
     },
     "execution_count": 41,
     "metadata": {},
     "output_type": "execute_result"
    }
   ],
   "source": [
    "from sklearn import metrics\n",
    "metrics.accuracy_score(y_test, y_pred_class)"
   ]
  },
  {
   "cell_type": "code",
   "execution_count": null,
   "id": "32930cf7",
   "metadata": {},
   "outputs": [],
   "source": []
  }
 ],
 "metadata": {
  "kernelspec": {
   "display_name": "Python 3 (ipykernel)",
   "language": "python",
   "name": "python3"
  },
  "language_info": {
   "codemirror_mode": {
    "name": "ipython",
    "version": 3
   },
   "file_extension": ".py",
   "mimetype": "text/x-python",
   "name": "python",
   "nbconvert_exporter": "python",
   "pygments_lexer": "ipython3",
   "version": "3.9.7"
  }
 },
 "nbformat": 4,
 "nbformat_minor": 5
}
